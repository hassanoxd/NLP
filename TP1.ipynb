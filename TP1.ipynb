{
 "cells": [
  {
   "cell_type": "markdown",
   "metadata": {},
   "source": [
    " <h2> <center> <B> TP : Text Minning </B></center></h2>\n",
    "<ul>\n",
    "<li> Hassan Ait Baha </li>\n",
    "<li> Moad Boulahdoud </li>\n",
    "</ul>"
   ]
  },
  {
   "cell_type": "code",
   "execution_count": 63,
   "metadata": {},
   "outputs": [],
   "source": [
    "import math\n",
    "import pandas as pd\n",
    "from textblob import TextBlob\n",
    "from sklearn.feature_extraction.text import TfidfVectorizer\n",
    "from nltk import sent_tokenize, word_tokenize, PorterStemmer\n",
    "from nltk.corpus import stopwords"
   ]
  },
  {
   "cell_type": "code",
   "execution_count": 46,
   "metadata": {},
   "outputs": [],
   "source": [
    "text = \"\"\"\n",
    "You are trying to code TF-IDF all by yourself like a big girl/boy.\n",
    "So this is a tinny doc.\n",
    "And another tinny doc to test few stuff.\n",
    "So in total, we are four documents, have fun ;).\n",
    "\"\"\""
   ]
  },
  {
   "cell_type": "code",
   "execution_count": 47,
   "metadata": {},
   "outputs": [
    {
     "data": {
      "text/plain": [
       "4"
      ]
     },
     "execution_count": 47,
     "metadata": {},
     "output_type": "execute_result"
    }
   ],
   "source": [
    "sentences = nltk.sent_tokenize(text)\n",
    "total_documents = len(sentences)\n",
    "total_documents"
   ]
  },
  {
   "cell_type": "code",
   "execution_count": 48,
   "metadata": {},
   "outputs": [
    {
     "data": {
      "text/plain": [
       "['\\nYou are trying to code TF-IDF all by yourself like a big girl/boy.',\n",
       " 'So this is a tinny doc.',\n",
       " 'And another tinny doc to test few stuff.',\n",
       " 'So in total, we are four documents, have fun ;).']"
      ]
     },
     "execution_count": 48,
     "metadata": {},
     "output_type": "execute_result"
    }
   ],
   "source": [
    "sentences"
   ]
  },
  {
   "cell_type": "code",
   "execution_count": 49,
   "metadata": {},
   "outputs": [
    {
     "data": {
      "text/plain": [
       "{'tri': 1,\n",
       " 'code': 1,\n",
       " 'tf-idf': 1,\n",
       " 'like': 1,\n",
       " 'big': 1,\n",
       " 'girl/boy': 1,\n",
       " '.': 4,\n",
       " 'So': 2,\n",
       " 'thi': 1,\n",
       " 'tinni': 2,\n",
       " 'doc': 2,\n",
       " 'anoth': 1,\n",
       " 'test': 1,\n",
       " 'stuff': 1,\n",
       " 'total': 1,\n",
       " ',': 2,\n",
       " 'four': 1,\n",
       " 'document': 1,\n",
       " 'fun': 1,\n",
       " ';': 1,\n",
       " ')': 1}"
      ]
     },
     "execution_count": 49,
     "metadata": {},
     "output_type": "execute_result"
    }
   ],
   "source": [
    "def _frequency_table(text_string) -> dict:\n",
    "    stopWords = set(stopwords.words(\"english\"))\n",
    "    words = word_tokenize(text_string)\n",
    "    ps = PorterStemmer()\n",
    "\n",
    "    freqTable = dict()\n",
    "    for word in words:\n",
    "        word = ps.stem(word)\n",
    "        if word in stopWords:\n",
    "            continue\n",
    "        if word in freqTable:\n",
    "            freqTable[word] += 1\n",
    "        else:\n",
    "            freqTable[word] = 1\n",
    "\n",
    "    return freqTable\n",
    "_frequency_table(text)"
   ]
  },
  {
   "cell_type": "code",
   "execution_count": 50,
   "metadata": {},
   "outputs": [],
   "source": [
    "def _frequency_matrix(words):\n",
    "    frequency_matrix = {}\n",
    "    stopWords = set(stopwords.words(\"english\"))\n",
    "    ps = PorterStemmer()\n",
    "\n",
    "    for sent in sentences:\n",
    "        freq_table = {}\n",
    "        words = word_tokenize(sent)\n",
    "        for word in words:\n",
    "            word = word.lower()\n",
    "            word = ps.stem(word)\n",
    "            if word in stopWords:\n",
    "                continue\n",
    "\n",
    "            if word in freq_table:\n",
    "                freq_table[word] += 1\n",
    "            else:\n",
    "                freq_table[word] = 1\n",
    "\n",
    "        frequency_matrix[sent[:15]] = freq_table\n",
    "\n",
    "    return frequency_matrix"
   ]
  },
  {
   "cell_type": "code",
   "execution_count": 51,
   "metadata": {},
   "outputs": [
    {
     "data": {
      "text/plain": [
       "{'\\nYou are trying': {'tri': 1,\n",
       "  'code': 1,\n",
       "  'tf-idf': 1,\n",
       "  'like': 1,\n",
       "  'big': 1,\n",
       "  'girl/boy': 1,\n",
       "  '.': 1},\n",
       " 'So this is a ti': {'thi': 1, 'tinni': 1, 'doc': 1, '.': 1},\n",
       " 'And another tin': {'anoth': 1,\n",
       "  'tinni': 1,\n",
       "  'doc': 1,\n",
       "  'test': 1,\n",
       "  'stuff': 1,\n",
       "  '.': 1},\n",
       " 'So in total, we': {'total': 1,\n",
       "  ',': 2,\n",
       "  'four': 1,\n",
       "  'document': 1,\n",
       "  'fun': 1,\n",
       "  ';': 1,\n",
       "  ')': 1,\n",
       "  '.': 1}}"
      ]
     },
     "execution_count": 51,
     "metadata": {},
     "output_type": "execute_result"
    }
   ],
   "source": [
    "freq_matrix = _frequency_matrix(sentences)\n",
    "freq_matrix"
   ]
  },
  {
   "cell_type": "code",
   "execution_count": 52,
   "metadata": {},
   "outputs": [],
   "source": [
    "def _tf_matrix(freq_matrix):\n",
    "    tf_matrix = {}\n",
    "\n",
    "    for sent, f_table in freq_matrix.items():\n",
    "        tf_table = {}\n",
    "\n",
    "        count_words_in_sentence = len(f_table)\n",
    "        for word, count in f_table.items():\n",
    "            tf_table[word] = count / count_words_in_sentence\n",
    "\n",
    "        tf_matrix[sent] = tf_table\n",
    "\n",
    "    return tf_matrix"
   ]
  },
  {
   "cell_type": "code",
   "execution_count": 53,
   "metadata": {},
   "outputs": [
    {
     "data": {
      "text/plain": [
       "{'\\nYou are trying': {'tri': 0.14285714285714285,\n",
       "  'code': 0.14285714285714285,\n",
       "  'tf-idf': 0.14285714285714285,\n",
       "  'like': 0.14285714285714285,\n",
       "  'big': 0.14285714285714285,\n",
       "  'girl/boy': 0.14285714285714285,\n",
       "  '.': 0.14285714285714285},\n",
       " 'So this is a ti': {'thi': 0.25, 'tinni': 0.25, 'doc': 0.25, '.': 0.25},\n",
       " 'And another tin': {'anoth': 0.16666666666666666,\n",
       "  'tinni': 0.16666666666666666,\n",
       "  'doc': 0.16666666666666666,\n",
       "  'test': 0.16666666666666666,\n",
       "  'stuff': 0.16666666666666666,\n",
       "  '.': 0.16666666666666666},\n",
       " 'So in total, we': {'total': 0.125,\n",
       "  ',': 0.25,\n",
       "  'four': 0.125,\n",
       "  'document': 0.125,\n",
       "  'fun': 0.125,\n",
       "  ';': 0.125,\n",
       "  ')': 0.125,\n",
       "  '.': 0.125}}"
      ]
     },
     "execution_count": 53,
     "metadata": {},
     "output_type": "execute_result"
    }
   ],
   "source": [
    "tf = _tf_matrix(freq_matrix)\n",
    "tf"
   ]
  },
  {
   "cell_type": "code",
   "execution_count": 54,
   "metadata": {},
   "outputs": [],
   "source": [
    "def _documents_per_words(freq_matrix):\n",
    "    word_per_doc_table = {}\n",
    "\n",
    "    for sent, f_table in freq_matrix.items():\n",
    "        for word, count in f_table.items():\n",
    "            if word in word_per_doc_table:\n",
    "                word_per_doc_table[word] += 1\n",
    "            else:\n",
    "                word_per_doc_table[word] = 1\n",
    "\n",
    "    return word_per_doc_table"
   ]
  },
  {
   "cell_type": "code",
   "execution_count": 55,
   "metadata": {},
   "outputs": [
    {
     "data": {
      "text/plain": [
       "{'tri': 1,\n",
       " 'code': 1,\n",
       " 'tf-idf': 1,\n",
       " 'like': 1,\n",
       " 'big': 1,\n",
       " 'girl/boy': 1,\n",
       " '.': 4,\n",
       " 'thi': 1,\n",
       " 'tinni': 2,\n",
       " 'doc': 2,\n",
       " 'anoth': 1,\n",
       " 'test': 1,\n",
       " 'stuff': 1,\n",
       " 'total': 1,\n",
       " ',': 1,\n",
       " 'four': 1,\n",
       " 'document': 1,\n",
       " 'fun': 1,\n",
       " ';': 1,\n",
       " ')': 1}"
      ]
     },
     "execution_count": 55,
     "metadata": {},
     "output_type": "execute_result"
    }
   ],
   "source": [
    "count_doc_per_words = _documents_per_words(freq_matrix)\n",
    "count_doc_per_words"
   ]
  },
  {
   "cell_type": "code",
   "execution_count": 56,
   "metadata": {},
   "outputs": [],
   "source": [
    "def _idf_matrix(freq_matrix, count_doc_per_words, total_documents):\n",
    "    idf_matrix = {}\n",
    "\n",
    "    for sent, f_table in freq_matrix.items():\n",
    "        idf_table = {}\n",
    "\n",
    "        for word in f_table.keys():\n",
    "            idf_table[word] = math.log10(total_documents / float(count_doc_per_words[word]))\n",
    "\n",
    "        idf_matrix[sent] = idf_table\n",
    "\n",
    "    return idf_matrix"
   ]
  },
  {
   "cell_type": "code",
   "execution_count": 57,
   "metadata": {},
   "outputs": [
    {
     "data": {
      "text/plain": [
       "{'\\nYou are trying': {'tri': 0.6020599913279624,\n",
       "  'code': 0.6020599913279624,\n",
       "  'tf-idf': 0.6020599913279624,\n",
       "  'like': 0.6020599913279624,\n",
       "  'big': 0.6020599913279624,\n",
       "  'girl/boy': 0.6020599913279624,\n",
       "  '.': 0.0},\n",
       " 'So this is a ti': {'thi': 0.6020599913279624,\n",
       "  'tinni': 0.3010299956639812,\n",
       "  'doc': 0.3010299956639812,\n",
       "  '.': 0.0},\n",
       " 'And another tin': {'anoth': 0.6020599913279624,\n",
       "  'tinni': 0.3010299956639812,\n",
       "  'doc': 0.3010299956639812,\n",
       "  'test': 0.6020599913279624,\n",
       "  'stuff': 0.6020599913279624,\n",
       "  '.': 0.0},\n",
       " 'So in total, we': {'total': 0.6020599913279624,\n",
       "  ',': 0.6020599913279624,\n",
       "  'four': 0.6020599913279624,\n",
       "  'document': 0.6020599913279624,\n",
       "  'fun': 0.6020599913279624,\n",
       "  ';': 0.6020599913279624,\n",
       "  ')': 0.6020599913279624,\n",
       "  '.': 0.0}}"
      ]
     },
     "execution_count": 57,
     "metadata": {},
     "output_type": "execute_result"
    }
   ],
   "source": [
    "idf = _idf_matrix(freq_matrix, count_doc_per_words, total_documents)\n",
    "idf"
   ]
  },
  {
   "cell_type": "code",
   "execution_count": 58,
   "metadata": {},
   "outputs": [],
   "source": [
    "def _tf_idf_matrix(tf_matrix, idf_matrix):\n",
    "    tf_idf_matrix = {}\n",
    "\n",
    "    for (sent1, f_table1), (sent2, f_table2) in zip(tf_matrix.items(), idf_matrix.items()):\n",
    "\n",
    "        tf_idf_table = {}\n",
    "\n",
    "        for (word1, value1), (word2, value2) in zip(f_table1.items(), f_table2.items()):  # here, keys are the same in both the table\n",
    "            tf_idf_table[word1] = float(value1 * value2)\n",
    "\n",
    "        tf_idf_matrix[sent1] = tf_idf_table\n",
    "\n",
    "    return tf_idf_matrix"
   ]
  },
  {
   "cell_type": "code",
   "execution_count": 61,
   "metadata": {},
   "outputs": [
    {
     "data": {
      "text/plain": [
       "{'\\nYou are trying': {'tri': 0.08600857018970891,\n",
       "  'code': 0.08600857018970891,\n",
       "  'tf-idf': 0.08600857018970891,\n",
       "  'like': 0.08600857018970891,\n",
       "  'big': 0.08600857018970891,\n",
       "  'girl/boy': 0.08600857018970891,\n",
       "  '.': 0.0},\n",
       " 'So this is a ti': {'thi': 0.1505149978319906,\n",
       "  'tinni': 0.0752574989159953,\n",
       "  'doc': 0.0752574989159953,\n",
       "  '.': 0.0},\n",
       " 'And another tin': {'anoth': 0.10034333188799373,\n",
       "  'tinni': 0.050171665943996864,\n",
       "  'doc': 0.050171665943996864,\n",
       "  'test': 0.10034333188799373,\n",
       "  'stuff': 0.10034333188799373,\n",
       "  '.': 0.0},\n",
       " 'So in total, we': {'total': 0.0752574989159953,\n",
       "  ',': 0.1505149978319906,\n",
       "  'four': 0.0752574989159953,\n",
       "  'document': 0.0752574989159953,\n",
       "  'fun': 0.0752574989159953,\n",
       "  ';': 0.0752574989159953,\n",
       "  ')': 0.0752574989159953,\n",
       "  '.': 0.0}}"
      ]
     },
     "execution_count": 61,
     "metadata": {},
     "output_type": "execute_result"
    }
   ],
   "source": [
    "tf_idf_matrix = _tf_idf_matrix(tf, idf)\n",
    "tf_idf_matrix"
   ]
  },
  {
   "cell_type": "markdown",
   "metadata": {},
   "source": [
    "Les valeurs pour le mot \"Boy\" <br>\n",
    "TF=0.14\n",
    "IDF=0.60\n",
    "TF-IDF=0.08"
   ]
  },
  {
   "cell_type": "code",
   "execution_count": 62,
   "metadata": {},
   "outputs": [
    {
     "data": {
      "text/plain": [
       "{'\\nYou are trying': 0.07372163159117906,\n",
       " 'So this is a ti': 0.0752574989159953,\n",
       " 'And another tin': 0.06689555459199582,\n",
       " 'So in total, we': 0.0752574989159953}"
      ]
     },
     "execution_count": 62,
     "metadata": {},
     "output_type": "execute_result"
    }
   ],
   "source": [
    "def _term_document(tf_idf_matrix) -> dict:\n",
    "    \"\"\"\n",
    "    score a sentence by its word's TF\n",
    "    Basic algorithm: adding the TF frequency of every non-stop word in a sentence divided by total no of words in a sentence.\n",
    "    :rtype: dict\n",
    "    \"\"\"\n",
    "\n",
    "    sentenceValue = {}\n",
    "\n",
    "    for sent, f_table in tf_idf_matrix.items():\n",
    "        total_score_per_sentence = 0\n",
    "\n",
    "        count_words_in_sentence = len(f_table)\n",
    "        for word, score in f_table.items():\n",
    "            total_score_per_sentence += score\n",
    "\n",
    "        sentenceValue[sent] = total_score_per_sentence / count_words_in_sentence\n",
    "\n",
    "    return sentenceValue\n",
    "_term_document(tf_idf_matrix)"
   ]
  },
  {
   "cell_type": "code",
   "execution_count": 71,
   "metadata": {},
   "outputs": [
    {
     "data": {
      "text/html": [
       "<div>\n",
       "<style scoped>\n",
       "    .dataframe tbody tr th:only-of-type {\n",
       "        vertical-align: middle;\n",
       "    }\n",
       "\n",
       "    .dataframe tbody tr th {\n",
       "        vertical-align: top;\n",
       "    }\n",
       "\n",
       "    .dataframe thead th {\n",
       "        text-align: right;\n",
       "    }\n",
       "</style>\n",
       "<table border=\"1\" class=\"dataframe\">\n",
       "  <thead>\n",
       "    <tr style=\"text-align: right;\">\n",
       "      <th></th>\n",
       "      <th>0</th>\n",
       "    </tr>\n",
       "  </thead>\n",
       "  <tbody>\n",
       "    <tr>\n",
       "      <th>all</th>\n",
       "      <td>0.274792</td>\n",
       "    </tr>\n",
       "    <tr>\n",
       "      <th>and</th>\n",
       "      <td>0.000000</td>\n",
       "    </tr>\n",
       "    <tr>\n",
       "      <th>another</th>\n",
       "      <td>0.000000</td>\n",
       "    </tr>\n",
       "    <tr>\n",
       "      <th>are</th>\n",
       "      <td>0.216649</td>\n",
       "    </tr>\n",
       "    <tr>\n",
       "      <th>big</th>\n",
       "      <td>0.274792</td>\n",
       "    </tr>\n",
       "    <tr>\n",
       "      <th>boy</th>\n",
       "      <td>0.274792</td>\n",
       "    </tr>\n",
       "    <tr>\n",
       "      <th>by</th>\n",
       "      <td>0.274792</td>\n",
       "    </tr>\n",
       "    <tr>\n",
       "      <th>code</th>\n",
       "      <td>0.274792</td>\n",
       "    </tr>\n",
       "    <tr>\n",
       "      <th>doc</th>\n",
       "      <td>0.000000</td>\n",
       "    </tr>\n",
       "    <tr>\n",
       "      <th>documents</th>\n",
       "      <td>0.000000</td>\n",
       "    </tr>\n",
       "    <tr>\n",
       "      <th>few</th>\n",
       "      <td>0.000000</td>\n",
       "    </tr>\n",
       "    <tr>\n",
       "      <th>four</th>\n",
       "      <td>0.000000</td>\n",
       "    </tr>\n",
       "    <tr>\n",
       "      <th>fun</th>\n",
       "      <td>0.000000</td>\n",
       "    </tr>\n",
       "    <tr>\n",
       "      <th>girl</th>\n",
       "      <td>0.274792</td>\n",
       "    </tr>\n",
       "    <tr>\n",
       "      <th>have</th>\n",
       "      <td>0.000000</td>\n",
       "    </tr>\n",
       "    <tr>\n",
       "      <th>idf</th>\n",
       "      <td>0.274792</td>\n",
       "    </tr>\n",
       "    <tr>\n",
       "      <th>in</th>\n",
       "      <td>0.000000</td>\n",
       "    </tr>\n",
       "    <tr>\n",
       "      <th>is</th>\n",
       "      <td>0.000000</td>\n",
       "    </tr>\n",
       "    <tr>\n",
       "      <th>like</th>\n",
       "      <td>0.274792</td>\n",
       "    </tr>\n",
       "    <tr>\n",
       "      <th>so</th>\n",
       "      <td>0.000000</td>\n",
       "    </tr>\n",
       "    <tr>\n",
       "      <th>stuff</th>\n",
       "      <td>0.000000</td>\n",
       "    </tr>\n",
       "    <tr>\n",
       "      <th>test</th>\n",
       "      <td>0.000000</td>\n",
       "    </tr>\n",
       "    <tr>\n",
       "      <th>tf</th>\n",
       "      <td>0.274792</td>\n",
       "    </tr>\n",
       "    <tr>\n",
       "      <th>this</th>\n",
       "      <td>0.000000</td>\n",
       "    </tr>\n",
       "    <tr>\n",
       "      <th>tinny</th>\n",
       "      <td>0.000000</td>\n",
       "    </tr>\n",
       "    <tr>\n",
       "      <th>to</th>\n",
       "      <td>0.216649</td>\n",
       "    </tr>\n",
       "    <tr>\n",
       "      <th>total</th>\n",
       "      <td>0.000000</td>\n",
       "    </tr>\n",
       "    <tr>\n",
       "      <th>trying</th>\n",
       "      <td>0.274792</td>\n",
       "    </tr>\n",
       "    <tr>\n",
       "      <th>we</th>\n",
       "      <td>0.000000</td>\n",
       "    </tr>\n",
       "    <tr>\n",
       "      <th>you</th>\n",
       "      <td>0.274792</td>\n",
       "    </tr>\n",
       "    <tr>\n",
       "      <th>yourself</th>\n",
       "      <td>0.274792</td>\n",
       "    </tr>\n",
       "  </tbody>\n",
       "</table>\n",
       "</div>"
      ],
      "text/plain": [
       "                  0\n",
       "all        0.274792\n",
       "and        0.000000\n",
       "another    0.000000\n",
       "are        0.216649\n",
       "big        0.274792\n",
       "boy        0.274792\n",
       "by         0.274792\n",
       "code       0.274792\n",
       "doc        0.000000\n",
       "documents  0.000000\n",
       "few        0.000000\n",
       "four       0.000000\n",
       "fun        0.000000\n",
       "girl       0.274792\n",
       "have       0.000000\n",
       "idf        0.274792\n",
       "in         0.000000\n",
       "is         0.000000\n",
       "like       0.274792\n",
       "so         0.000000\n",
       "stuff      0.000000\n",
       "test       0.000000\n",
       "tf         0.274792\n",
       "this       0.000000\n",
       "tinny      0.000000\n",
       "to         0.216649\n",
       "total      0.000000\n",
       "trying     0.274792\n",
       "we         0.000000\n",
       "you        0.274792\n",
       "yourself   0.274792"
      ]
     },
     "execution_count": 71,
     "metadata": {},
     "output_type": "execute_result"
    }
   ],
   "source": [
    "vectorizer = TfidfVectorizer()\n",
    "tfidf_vectorizer_vectors = vectorizer.fit_transform(sentences)\n",
    "first_vector_tfidfvectorizer = tfidf_vectorizer_vectors[0] \n",
    "# place tf-idf values in a pandas data frame \n",
    "df = pd.DataFrame(first_vector_tfidfvectorizer.T.todense(), index=vectorizer.get_feature_names()) \n",
    "df"
   ]
  },
  {
   "cell_type": "code",
   "execution_count": 1,
   "metadata": {},
   "outputs": [],
   "source": [
    "##q8"
   ]
  },
  {
   "cell_type": "markdown",
   "metadata": {},
   "source": [
    "<h3> import data </h3>"
   ]
  },
  {
   "cell_type": "code",
   "execution_count": 4,
   "metadata": {},
   "outputs": [
    {
     "name": "stderr",
     "output_type": "stream",
     "text": [
      "[nltk_data] Downloading package gutenberg to\n",
      "[nltk_data]     C:\\Users\\PC\\AppData\\Roaming\\nltk_data...\n",
      "[nltk_data]   Unzipping corpora\\gutenberg.zip.\n"
     ]
    },
    {
     "data": {
      "text/plain": [
       "True"
      ]
     },
     "execution_count": 4,
     "metadata": {},
     "output_type": "execute_result"
    }
   ],
   "source": [
    "import os\n",
    "import nltk\n",
    "import nltk.corpus\n",
    "nltk.download('gutenberg')"
   ]
  },
  {
   "cell_type": "code",
   "execution_count": 5,
   "metadata": {},
   "outputs": [],
   "source": [
    "document = []\n",
    "d1 = nltk.corpus.gutenberg.raw('shakespeare-caesar.txt')\n",
    "d2 = nltk.corpus.gutenberg.raw('shakespeare-hamlet.txt')\n",
    "d3 = nltk.corpus.gutenberg.raw('shakespeare-macbeth.txt')\n",
    "\n",
    "document.append(d1)\n",
    "document.append(d2)\n",
    "document.append(d3)"
   ]
  },
  {
   "cell_type": "code",
   "execution_count": 9,
   "metadata": {},
   "outputs": [],
   "source": [
    "from sklearn.feature_extraction.text import TfidfVectorizer\n",
    "vectorizer = TfidfVectorizer(ngram_range=(1, 2))\n",
    "#Creation et affichage du DTM \n",
    "v = vectorizer.fit_transform(document)"
   ]
  },
  {
   "cell_type": "code",
   "execution_count": 10,
   "metadata": {},
   "outputs": [
    {
     "name": "stdout",
     "output_type": "stream",
     "text": [
      "(3, 51015)\n",
      "  (0, 22043)\t0.001043795799257597\n",
      "  (0, 29582)\t0.001043795799257597\n",
      "  (0, 13747)\t0.0006164826137042619\n",
      "  (0, 30075)\t0.0007938336096451947\n",
      "  (0, 12674)\t0.0007938336096451947\n",
      "  (0, 9635)\t0.0007938336096451947\n",
      "  (0, 16965)\t0.001043795799257597\n",
      "  (0, 43126)\t0.001043795799257597\n",
      "  (0, 15529)\t0.001043795799257597\n",
      "  (0, 41038)\t0.001043795799257597\n",
      "  (0, 3389)\t0.001043795799257597\n",
      "  (0, 23249)\t0.0007938336096451947\n",
      "  (0, 34198)\t0.001043795799257597\n",
      "  (0, 44636)\t0.001043795799257597\n",
      "  (0, 13595)\t0.001043795799257597\n",
      "  (0, 37383)\t0.0007938336096451947\n",
      "  (0, 19615)\t0.001043795799257597\n",
      "  (0, 30614)\t0.001043795799257597\n",
      "  (0, 37979)\t0.001043795799257597\n",
      "  (0, 23596)\t0.001043795799257597\n",
      "  (0, 24401)\t0.001043795799257597\n",
      "  (0, 36203)\t0.001043795799257597\n",
      "  (0, 28202)\t0.001043795799257597\n",
      "  (0, 5192)\t0.0007938336096451947\n",
      "  (0, 18967)\t0.0007938336096451947\n",
      "  :\t:\n",
      "  (2, 28642)\t0.12014092945824126\n",
      "  (2, 22484)\t0.025484439582051176\n",
      "  (2, 47739)\t0.08591896773377253\n",
      "  (2, 42980)\t0.07572519190095206\n",
      "  (2, 21305)\t0.1368878468978749\n",
      "  (2, 15315)\t0.006553141606813159\n",
      "  (2, 50252)\t0.1499941301115012\n",
      "  (2, 19500)\t0.0036406342260073108\n",
      "  (2, 18356)\t0.008009395297216084\n",
      "  (2, 38521)\t0.0021843805356043865\n",
      "  (2, 30740)\t0.0036406342260073108\n",
      "  (2, 7386)\t0.0036406342260073108\n",
      "  (2, 1136)\t0.3975572574799983\n",
      "  (2, 12207)\t0.05897827446131843\n",
      "  (2, 32782)\t0.0036406342260073108\n",
      "  (2, 35306)\t0.0007281268452014622\n",
      "  (2, 32790)\t0.0007281268452014622\n",
      "  (2, 220)\t0.0036406342260073108\n",
      "  (2, 36120)\t0.0007281268452014622\n",
      "  (2, 48894)\t0.0007281268452014622\n",
      "  (2, 6325)\t0.03567821541487164\n",
      "  (2, 6488)\t0.0007281268452014622\n",
      "  (2, 29359)\t0.2461068736780942\n",
      "  (2, 45079)\t0.0014562536904029243\n",
      "  (2, 40649)\t0.4732824493809504\n"
     ]
    }
   ],
   "source": [
    "print(v.shape)\n",
    "print(v)"
   ]
  },
  {
   "cell_type": "code",
   "execution_count": null,
   "metadata": {},
   "outputs": [],
   "source": []
  }
 ],
 "metadata": {
  "file_extension": ".py",
  "kernelspec": {
   "display_name": "Python 3",
   "language": "python",
   "name": "python3"
  },
  "language_info": {
   "codemirror_mode": {
    "name": "ipython",
    "version": 3
   },
   "file_extension": ".py",
   "mimetype": "text/x-python",
   "name": "python",
   "nbconvert_exporter": "python",
   "pygments_lexer": "ipython3",
   "version": "3.7.4"
  },
  "mimetype": "text/x-python",
  "name": "python",
  "npconvert_exporter": "python",
  "pygments_lexer": "ipython3",
  "version": 3
 },
 "nbformat": 4,
 "nbformat_minor": 4
}
